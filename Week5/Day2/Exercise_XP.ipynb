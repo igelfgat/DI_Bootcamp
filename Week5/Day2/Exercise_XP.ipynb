{
 "cells": [
  {
   "attachments": {},
   "cell_type": "markdown",
   "metadata": {},
   "source": [
    "Exercise 1 : Identifying Data Types\n",
    "\n",
    "Instructions\n",
    "\n",
    "Below are various data sources. Identify whether each one is an example of structured or unstructured data.\n",
    "\n",
    "A company’s financial reports stored in an Excel file. - Structured\n",
    "Photographs uploaded to a social media platform. - Unstructured\n",
    "A collection of news articles on a website. - Unstructured\n",
    "Inventory data in a relational database. - Structured\n",
    "Recorded interviews from a market research study. - Unstructured"
   ]
  },
  {
   "attachments": {},
   "cell_type": "markdown",
   "metadata": {},
   "source": [
    "Exercise 2 : Transformation Exercise\n",
    "\n",
    "Instructions\n",
    "\n",
    "For each of the following unstructured data sources, propose a method to convert it into structured data. Explain your reasoning.\n",
    "\n",
    "A series of blog posts about travel experiences. - Add id for each blog post. For more readability we can group posts by category and add short description\n",
    "Audio recordings of customer service calls. - Add id for each call, date of call, topic, name of agent, name of customer \n",
    "Handwritten notes from a brainstorming session.-  Is it possible, to add the notes to the table with highlighting the key point, also structered by date and topic\n",
    "A video tutorial on cooking. - Looking to transcription, we can separate the video for several part as a preparation, cooking, serving."
   ]
  },
  {
   "attachments": {},
   "cell_type": "markdown",
   "metadata": {},
   "source": [
    " Exercise 3 : Application Scenario\n",
    "\n",
    "Instructions\n",
    "\n",
    "You are a data analyst at a retail company. You have access to various data sources, including transaction records, customer feedback comments, social media posts about your brand, and employee work schedules.\n",
    "\n",
    "Categorize each of these data sources as structured or unstructured.\n",
    "Suggest how you might use each type of data for improving the company’s business operations.\n",
    "\n",
    "transaction records - structured.  Allow for accurate tracking of revenue, expenses, and profitability, enabling better financial management and planning \n",
    "customer feedback comments - unstructured. Allow to improve the business operations, products and customer service\n",
    "social media posts about your brand - unstructed. Can help increase sales through advertising\n",
    "employee work schedules - structured. Helps to create plan of work though the productivity and quality an individual employee or team\n"
   ]
  },
  {
   "attachments": {},
   "cell_type": "markdown",
   "metadata": {},
   "source": [
    " Exercise 4 : Synthetic Data Generation\n",
    "\n",
    "Instructions\n",
    "\n",
    "Use the Python Faker library to generate a list of 100 random names, addresses, and email addresses.\n",
    "Use numpy to add a column of random ages (between 20 and 60) and a column of random income levels (within a reasonable range).\n",
    "Combine this data into a pandas DataFrame and name the columns appropriately.\n",
    "Display the first 10 rows of your DataFrame"
   ]
  },
  {
   "cell_type": "code",
   "execution_count": 2,
   "metadata": {},
   "outputs": [
    {
     "name": "stdout",
     "output_type": "stream",
     "text": [
      "Collecting faker\n",
      "  Downloading Faker-26.0.0-py3-none-any.whl (1.8 MB)\n",
      "\u001b[2K     \u001b[90m━━━━━━━━━━━━━━━━━━━━━━━━━━━━━━━━━━━━━━━━\u001b[0m \u001b[32m1.8/1.8 MB\u001b[0m \u001b[31m5.5 MB/s\u001b[0m eta \u001b[36m0:00:00\u001b[0ma \u001b[36m0:00:01\u001b[0m0m\n",
      "\u001b[?25hRequirement already satisfied: python-dateutil>=2.4 in /Users/ilyagelfgat/Documents/DI_Bootcamp/Week3/Day4/my_postgres/lib/python3.11/site-packages (from faker) (2.9.0.post0)\n",
      "Requirement already satisfied: six>=1.5 in /Users/ilyagelfgat/Documents/DI_Bootcamp/Week3/Day4/my_postgres/lib/python3.11/site-packages (from python-dateutil>=2.4->faker) (1.16.0)\n",
      "Installing collected packages: faker\n",
      "Successfully installed faker-26.0.0\n",
      "\n",
      "\u001b[1m[\u001b[0m\u001b[34;49mnotice\u001b[0m\u001b[1;39;49m]\u001b[0m\u001b[39;49m A new release of pip is available: \u001b[0m\u001b[31;49m23.1.2\u001b[0m\u001b[39;49m -> \u001b[0m\u001b[32;49m24.1.1\u001b[0m\n",
      "\u001b[1m[\u001b[0m\u001b[34;49mnotice\u001b[0m\u001b[1;39;49m]\u001b[0m\u001b[39;49m To update, run: \u001b[0m\u001b[32;49mpip install --upgrade pip\u001b[0m\n",
      "Note: you may need to restart the kernel to use updated packages.\n"
     ]
    }
   ],
   "source": [
    "%pip install faker"
   ]
  },
  {
   "cell_type": "code",
   "execution_count": 12,
   "metadata": {},
   "outputs": [
    {
     "name": "stdout",
     "output_type": "stream",
     "text": [
      "                 Name                                            address  \\\n",
      "0           Brian Lee  62968 Zimmerman Trail Suite 555\\nBartonfurt, N...   \n",
      "1      Robert Escobar          623 Nicholas Bypass\\nAndrewside, TX 65242   \n",
      "2         Deanna Hill                   Unit 7189 Box 6048\\nDPO AA 90611   \n",
      "3       Patrick Chase  299 Ann Shores Apt. 821\\nSouth Jamesland, HI 8...   \n",
      "4     Joseph Cardenas   1790 Ryan Highway Apt. 296\\nWrighttown, WV 95834   \n",
      "5         Philip Holt  01744 Winters Stream Suite 159\\nWest Kyleburgh...   \n",
      "6     Charles Gardner                   PSC 7993, Box 9074\\nAPO AP 39623   \n",
      "7         Carlos King           42285 Robert Garden\\nNew Kevin, OR 00748   \n",
      "8  Mackenzie Mccarthy     646 Cindy Mews Apt. 296\\nMichaelstad, PW 81514   \n",
      "9      Michael Bailey  2264 Cook Viaduct Suite 333\\nEast Mirandafurt,...   \n",
      "\n",
      "                       email  age  income  \n",
      "0  robersonjacob@example.org   26   34566  \n",
      "1    elizabeth38@example.net   47   54460  \n",
      "2         cgibbs@example.org   49   60550  \n",
      "3      raymond68@example.org   29   60718  \n",
      "4        fturner@example.org   18   65637  \n",
      "5    karlamalone@example.org   62   13331  \n",
      "6    smithjohnny@example.net   45   13176  \n",
      "7      patrick62@example.com   33   46619  \n",
      "8    webbrussell@example.org   21   16319  \n",
      "9         ryan94@example.net   22   35740  \n"
     ]
    }
   ],
   "source": [
    "import numpy as np\n",
    "from faker import Faker\n",
    "import pandas as pd\n",
    "fake = Faker()\n",
    "data = [(fake.name(), fake.address(), fake.email(), np.random.randint(18, 70), np.random.randint(8000, 70000)) for _ in range(100)]\n",
    "personal_info = pd.DataFrame(data, columns=['Name', 'address', 'email', 'age', 'income'])\n",
    "print(personal_info.head(10))"
   ]
  },
  {
   "attachments": {},
   "cell_type": "markdown",
   "metadata": {},
   "source": [
    "Exercise 5 : Data Augmentation For Images\n",
    "\n",
    "Instructions\n",
    "\n",
    "You have a dataset of dog images, and you want to augment this dataset to improve a machine learning model’s performance.\n",
    "Using the ImageDataGeneratorfrom the TensorFlow Keras library, apply the following transformations to your dataset:\n",
    "\n",
    "Rotate the images by various angles (up to 30 degrees).\n",
    "Flip the images horizontally and vertically.\n",
    "Vary the brightness of the images within a specific range.\n",
    "Save these augmented images in a new folder."
   ]
  }
 ],
 "metadata": {
  "kernelspec": {
   "display_name": "my_postgres",
   "language": "python",
   "name": "python3"
  },
  "language_info": {
   "codemirror_mode": {
    "name": "ipython",
    "version": 3
   },
   "file_extension": ".py",
   "mimetype": "text/x-python",
   "name": "python",
   "nbconvert_exporter": "python",
   "pygments_lexer": "ipython3",
   "version": "3.11.4"
  },
  "orig_nbformat": 4
 },
 "nbformat": 4,
 "nbformat_minor": 2
}
