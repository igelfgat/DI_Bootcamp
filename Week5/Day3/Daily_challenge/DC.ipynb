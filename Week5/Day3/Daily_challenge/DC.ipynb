{
 "cells": [
  {
   "attachments": {},
   "cell_type": "markdown",
   "metadata": {},
   "source": [
    "Data Loading: Download the Iris dataset from this link and save it as a CSV file (e.g., iris.csv). Then, load this CSV dataset into a Pandas DataFrame."
   ]
  },
  {
   "cell_type": "code",
   "execution_count": 2,
   "metadata": {},
   "outputs": [
    {
     "name": "stdout",
     "output_type": "stream",
     "text": [
      "   sepal_length  sepal_width  petal_length  petal_width      species\n",
      "0           5.1          3.5           1.4          0.2  Iris-setosa\n",
      "1           4.9          3.0           1.4          0.2  Iris-setosa\n",
      "2           4.7          3.2           1.3          0.2  Iris-setosa\n",
      "3           4.6          3.1           1.5          0.2  Iris-setosa\n",
      "4           5.0          3.6           1.4          0.2  Iris-setosa\n"
     ]
    }
   ],
   "source": [
    "import pandas as pd\n",
    "\n",
    "iris_df = pd.read_csv('/Users/ilyagelfgat/Documents/DI_Bootcamp/Week5/Day3/Daily_challenge/IRIS.csv')\n",
    "print(iris_df.head())"
   ]
  },
  {
   "attachments": {},
   "cell_type": "markdown",
   "metadata": {},
   "source": [
    "Data Cleaning - Handling Missing Values: Check for missing values in the dataset and decide how to handle them. You can either remove rows with missing values or impute them with appropriate values (e.g., using the mean or median). Document your approach and execute it."
   ]
  },
  {
   "cell_type": "code",
   "execution_count": 3,
   "metadata": {},
   "outputs": [
    {
     "name": "stdout",
     "output_type": "stream",
     "text": [
      "Missing Values:\n",
      " sepal_length    0\n",
      "sepal_width     0\n",
      "petal_length    0\n",
      "petal_width     0\n",
      "species         0\n",
      "dtype: int64\n"
     ]
    }
   ],
   "source": [
    "missing_values = iris_df.isnull().sum()\n",
    "print(\"Missing Values:\\n\", missing_values)"
   ]
  },
  {
   "cell_type": "code",
   "execution_count": 5,
   "metadata": {},
   "outputs": [
    {
     "name": "stdout",
     "output_type": "stream",
     "text": [
      "   sepal_length  sepal_width  petal_length  petal_width      species\n",
      "0           5.1          3.5           1.4          0.2  Iris-setosa\n",
      "1           4.9          3.0           1.4          0.2  Iris-setosa\n",
      "2           4.7          3.2           1.3          0.2  Iris-setosa\n",
      "3           4.6          3.1           1.5          0.2  Iris-setosa\n",
      "4           5.0          3.6           1.4          0.2  Iris-setosa\n"
     ]
    }
   ],
   "source": [
    "iris_df_cleaned = iris_df.dropna() # Remove rows with missing values\n",
    "print(iris_df_cleaned.head())"
   ]
  },
  {
   "attachments": {},
   "cell_type": "markdown",
   "metadata": {},
   "source": [
    "\n",
    "Data Cleaning - Renaming Columns: Examine the column names in the dataset. If needed, rename the columns to make them more descriptive and meaningful. For example, you can rename columns like ‘sepal_length’ and ‘sepal_width’ for clarity."
   ]
  },
  {
   "cell_type": "code",
   "execution_count": 6,
   "metadata": {},
   "outputs": [
    {
     "name": "stdout",
     "output_type": "stream",
     "text": [
      "   Sepal Length (cm)  Sepal Width (cm)  Petal Length (cm)  Petal Width (cm)  \\\n",
      "0                5.1               3.5                1.4               0.2   \n",
      "1                4.9               3.0                1.4               0.2   \n",
      "2                4.7               3.2                1.3               0.2   \n",
      "3                4.6               3.1                1.5               0.2   \n",
      "4                5.0               3.6                1.4               0.2   \n",
      "\n",
      "       species  \n",
      "0  Iris-setosa  \n",
      "1  Iris-setosa  \n",
      "2  Iris-setosa  \n",
      "3  Iris-setosa  \n",
      "4  Iris-setosa  \n"
     ]
    }
   ],
   "source": [
    "updated_column_names = {\n",
    "    'sepal_length': 'Sepal Length (cm)',\n",
    "    'sepal_width': 'Sepal Width (cm)',\n",
    "    'petal_length': 'Petal Length (cm)',\n",
    "    'petal_width': 'Petal Width (cm)'\n",
    "}\n",
    "\n",
    "# Rename columns using rename() method\n",
    "updated_iris_df = iris_df_cleaned.rename(columns=updated_column_names)\n",
    "print(updated_iris_df.head())"
   ]
  },
  {
   "attachments": {},
   "cell_type": "markdown",
   "metadata": {},
   "source": [
    "Export to Excel: After cleaning the dataset, export it to a new Excel file (e.g., cleaned_iris.xlsx) using Pandas. Ensure that the exported file contains the cleaned data with updated column names.`"
   ]
  },
  {
   "cell_type": "code",
   "execution_count": 9,
   "metadata": {},
   "outputs": [],
   "source": [
    "updated_iris_df.to_excel('/Users/ilyagelfgat/Documents/DI_Bootcamp/Week5/Day3/Daily_challenge/updated_iris_df.xlsx', index=False)"
   ]
  },
  {
   "attachments": {},
   "cell_type": "markdown",
   "metadata": {},
   "source": [
    "Import from Excel: Import the data from the Excel file (cleaned_iris.xlsx) back into a Python DataFrame. Verify that the imported data matches the cleaned data from step 2."
   ]
  },
  {
   "cell_type": "code",
   "execution_count": 10,
   "metadata": {},
   "outputs": [
    {
     "name": "stdout",
     "output_type": "stream",
     "text": [
      "   Sepal Length (cm)  Sepal Width (cm)  Petal Length (cm)  Petal Width (cm)  \\\n",
      "0                5.1               3.5                1.4               0.2   \n",
      "1                4.9               3.0                1.4               0.2   \n",
      "2                4.7               3.2                1.3               0.2   \n",
      "3                4.6               3.1                1.5               0.2   \n",
      "4                5.0               3.6                1.4               0.2   \n",
      "\n",
      "       species  \n",
      "0  Iris-setosa  \n",
      "1  Iris-setosa  \n",
      "2  Iris-setosa  \n",
      "3  Iris-setosa  \n",
      "4  Iris-setosa  \n"
     ]
    }
   ],
   "source": [
    "excel_df_imported = pd.read_excel('/Users/ilyagelfgat/Documents/DI_Bootcamp/Week5/Day3/Daily_challenge/updated_iris_df.xlsx')\n",
    "print(excel_df_imported.head())"
   ]
  },
  {
   "attachments": {},
   "cell_type": "markdown",
   "metadata": {},
   "source": [
    "Save Subset to JSON: Create a subset of the cleaned Iris dataset. For example, you can select a specific number of rows or specific columns. Export this subset to a JSON file (e.g., iris_subset.json) using Pandas."
   ]
  },
  {
   "cell_type": "code",
   "execution_count": 12,
   "metadata": {},
   "outputs": [],
   "source": [
    "subset_columns = ['Sepal Length (cm)', 'Petal Length (cm)', 'species']\n",
    "df_subset = excel_df_imported.loc[:9, subset_columns]  # Selecting first 10 rows and specific columns\n",
    "df_subset.to_json('/Users/ilyagelfgat/Documents/DI_Bootcamp/Week5/Day3/Daily_challenge/new_df.json', orient='records')"
   ]
  }
 ],
 "metadata": {
  "kernelspec": {
   "display_name": "my_postgres",
   "language": "python",
   "name": "python3"
  },
  "language_info": {
   "codemirror_mode": {
    "name": "ipython",
    "version": 3
   },
   "file_extension": ".py",
   "mimetype": "text/x-python",
   "name": "python",
   "nbconvert_exporter": "python",
   "pygments_lexer": "ipython3",
   "version": "3.11.4"
  },
  "orig_nbformat": 4
 },
 "nbformat": 4,
 "nbformat_minor": 2
}
