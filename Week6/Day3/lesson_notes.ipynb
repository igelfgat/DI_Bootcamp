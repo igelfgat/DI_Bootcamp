{
 "cells": [
  {
   "cell_type": "code",
   "execution_count": 3,
   "metadata": {},
   "outputs": [],
   "source": [
    "import sqlalchemy as db\n",
    "engine = db.create_engine(\"sqlite:///european_database.sqlite\")\n",
    "\n",
    "conn = engine.connect()"
   ]
  },
  {
   "cell_type": "code",
   "execution_count": 6,
   "metadata": {},
   "outputs": [
    {
     "name": "stdout",
     "output_type": "stream",
     "text": [
      "Available tables: dict_keys(['divisions', 'matchs'])\n",
      "Table('divisions', MetaData(), Column('division', TEXT(), table=<divisions>), Column('name', TEXT(), table=<divisions>), Column('country', TEXT(), table=<divisions>), schema=None)\n"
     ]
    }
   ],
   "source": [
    "# Extracting the metadata\n",
    "metadata = db.MetaData()\n",
    "# Reflect the existing database to get the tables\n",
    "metadata.reflect(bind=engine)\n",
    "# Print all table names to verify the available tables\n",
    "print(\"Available tables:\", metadata.tables.keys())\n",
    "# Check if 'divisions' table exists and create a Table object for it\n",
    "if 'divisions' in metadata.tables:\n",
    "    division= db.Table('divisions', metadata, autoload=True, autoload_with=engine)\n",
    "    # Print the metadata for the 'divisions' table\n",
    "    print(repr(division))\n",
    "else:\n",
    "    raise Exception(\"Table 'divisions' does not exist in the database.\")"
   ]
  },
  {
   "cell_type": "code",
   "execution_count": 7,
   "metadata": {},
   "outputs": [
    {
     "name": "stdout",
     "output_type": "stream",
     "text": [
      "division:TEXT\n",
      "name:TEXT\n",
      "country:TEXT\n"
     ]
    }
   ],
   "source": [
    "division = metadata.tables['divisions']\n",
    "for column in division.columns:\n",
    "    print(f\"{column.name}:{column.type}\")"
   ]
  },
  {
   "cell_type": "code",
   "execution_count": 8,
   "metadata": {},
   "outputs": [],
   "source": [
    "query = db.select(division)\n",
    "result_proxy = conn.execute(query)"
   ]
  },
  {
   "cell_type": "code",
   "execution_count": 9,
   "metadata": {},
   "outputs": [],
   "source": [
    "rows = result_proxy.fetchall()"
   ]
  },
  {
   "cell_type": "code",
   "execution_count": 10,
   "metadata": {},
   "outputs": [
    {
     "name": "stdout",
     "output_type": "stream",
     "text": [
      "('B1', 'Division 1A', 'Belgium')\n",
      "('D1', 'Bundesliga', 'Deutschland')\n",
      "('D2', '2. Bundesliga', 'Deutschland')\n",
      "('E0', 'Premier League', 'England')\n",
      "('E1', 'EFL Championship', 'England')\n",
      "('E2', 'EFL League One', 'England')\n",
      "('E3', 'EFL League Two', 'England')\n",
      "('EC', 'National League', 'England')\n",
      "('F1', 'Ligue 1', 'France')\n",
      "('F2', 'Ligue 2', 'France')\n",
      "('G1', 'Superleague', 'Greece')\n",
      "('I1', 'Seria A', 'Italy')\n",
      "('I2', 'Seria B', 'Italy')\n",
      "('N1', 'Eredivisie', 'Netherlands')\n",
      "('P1', 'Liga NOS', 'Portugal')\n",
      "('SC0', 'Scottish Premiership', 'Scotland')\n",
      "('SC1', 'Scottish Championship', 'Scotland')\n",
      "('SC2', 'Scottish League One', 'Scotland')\n",
      "('SP1', 'LaLiga', 'Spain')\n",
      "('SP2', 'LaLiga 2', 'Spain')\n",
      "('T1', 'Süper Lig', 'Turkey')\n"
     ]
    }
   ],
   "source": [
    "for row in rows:\n",
    "    print(row)"
   ]
  }
 ],
 "metadata": {
  "kernelspec": {
   "display_name": "Python 3",
   "language": "python",
   "name": "python3"
  },
  "language_info": {
   "codemirror_mode": {
    "name": "ipython",
    "version": 3
   },
   "file_extension": ".py",
   "mimetype": "text/x-python",
   "name": "python",
   "nbconvert_exporter": "python",
   "pygments_lexer": "ipython3",
   "version": "3.11.4"
  },
  "orig_nbformat": 4
 },
 "nbformat": 4,
 "nbformat_minor": 2
}
