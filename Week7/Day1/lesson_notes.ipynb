{
 "cells": [
  {
   "attachments": {},
   "cell_type": "markdown",
   "metadata": {},
   "source": [
    "1. Create Arrays: Create a 1D array with numbers from 1 to 5 and a 2D array with numbers from 1 to 6 (reshape it to have 2 rows and 3 columns).\n",
    "\n",
    "USE:(https://numpy.org/doc/stable/reference/generated/numpy.reshape.html), (https://numpy.org/doc/stable/reference/generated/numpy.arange.html)\n",
    "\n",
    "2. Inspect Attributes: For each array you created, print its shape, size, and data type.\n",
    "\n",
    "3. Play with Data Types: Create a new array with numbers from 1 to 3, but specify the data type as float. Check and print its data type.\n",
    "\n",
    "Expected Output:\n",
    "\n",
    "Prints of the created arrays with their respective shapes, sizes, and data types.\n",
    "An array with a specified data type different from the default."
   ]
  },
  {
   "cell_type": "code",
   "execution_count": 2,
   "metadata": {},
   "outputs": [
    {
     "name": "stdout",
     "output_type": "stream",
     "text": [
      "1D Array: [1 2 3 4 5]\n",
      "Shape: (5,)\n",
      "Size: 5\n",
      "Data Type: int64\n"
     ]
    }
   ],
   "source": [
    "import numpy as np\n",
    "\n",
    "# Creating a 1D NumPy array\n",
    "array_1d = np.array([1, 2, 3, 4, 5])\n",
    "print(\"1D Array:\", array_1d)\n",
    "print(\"Shape:\", array_1d.shape)  # Expected Output: Shape: (2, 3) - 2 rows and 3 columns\n",
    "print(\"Size:\", array_1d.size)   # Expected Output: Size: 6 - Total 6 elements\n",
    "print(\"Data Type:\", array_1d.dtype)  # Expected Output: Data Type: int64 (or similar, depending on system)"
   ]
  },
  {
   "cell_type": "code",
   "execution_count": 7,
   "metadata": {},
   "outputs": [
    {
     "name": "stdout",
     "output_type": "stream",
     "text": [
      "2D Array:\n",
      " [[1 2 3]\n",
      " [4 5 6]]\n",
      "Shape: (2, 3)\n",
      "Size: 6\n",
      "Data Type: int64\n",
      "[[1 2 3]\n",
      " [4 5 6]]\n"
     ]
    }
   ],
   "source": [
    "array_2d = np.arange(1, 7).reshape(2, 3)\n",
    "print(\"2D Array:\\n\", array_2d)\n",
    "# Expected Output:\n",
    "# 2D Array:\n",
    "# [[1 2 3]\n",
    "#  [4 5 6]]\n",
    "\n",
    "# Array attributes\n",
    "print(\"Shape:\", array_2d.shape)  # Expected Output: Shape: (2, 3) - 2 rows and 3 columns\n",
    "print(\"Size:\", array_2d.size)   # Expected Output: Size: 6 - Total 6 elements\n",
    "print(\"Data Type:\", array_2d.dtype)  # Expected Output: Data Type: int64 (or similar, depending on system)\n",
    "print(array_2d)"
   ]
  },
  {
   "cell_type": "code",
   "execution_count": 9,
   "metadata": {},
   "outputs": [
    {
     "name": "stdout",
     "output_type": "stream",
     "text": [
      "Data type: float64\n"
     ]
    }
   ],
   "source": [
    "array_float = np.arange(1, 4, dtype=float)\n",
    "print(\"Data type:\", array_float.dtype)"
   ]
  },
  {
   "cell_type": "code",
   "execution_count": 13,
   "metadata": {},
   "outputs": [
    {
     "name": "stdout",
     "output_type": "stream",
     "text": [
      "[[[ 23  14 126]\n",
      "  [ 74  51 249]\n",
      "  [  6 189  94]]\n",
      "\n",
      " [[ 44 205 165]\n",
      "  [187  53  49]\n",
      "  [  0  33   8]]\n",
      "\n",
      " [[207  28 234]\n",
      "  [125  76  14]\n",
      "  [254  21 136]]]\n"
     ]
    }
   ],
   "source": [
    "pixels = np.random.randint(0, 256, size=(3, 3, 3))\n",
    "print(pixels)"
   ]
  },
  {
   "cell_type": "code",
   "execution_count": 14,
   "metadata": {},
   "outputs": [
    {
     "data": {
      "image/png": "[encoded data removed]",
      "text/plain": [
       "<Figure size 640x480 with 1 Axes>"
      ]
     },
     "metadata": {},
     "output_type": "display_data"
    }
   ],
   "source": [
    "import matplotlib.pyplot as plt\n",
    "plt.imshow(pixels)\n",
    "plt.show()"
   ]
  },
  {
   "attachments": {},
   "cell_type": "markdown",
   "metadata": {},
   "source": [
    "Exercise: Basic Operations With Arrays\n",
    "\n",
    "1. Arithmetic Operations: Create two 1D arrays of 3 elements each and perform element-wise addition, subtraction, multiplication, and division.\n",
    "\n",
    "2. Aggregation Functions: For the arrays created above, find the sum, mean, minimum, and maximum of each array.\n",
    "\n",
    "3. Broadcasting with Scalar: Multiply one of the arrays by a scalar (e.g., 5) and observe the result."
   ]
  },
  {
   "cell_type": "code",
   "execution_count": 5,
   "metadata": {},
   "outputs": [
    {
     "name": "stdout",
     "output_type": "stream",
     "text": [
      "[11 22 33]\n",
      "[ -9 -18 -27]\n",
      "[10 40 90]\n",
      "[0.1 0.1 0.1]\n"
     ]
    }
   ],
   "source": [
    "a = np.array([1, 2, 3])\n",
    "b = np.array([10, 20, 30])\n",
    "\n",
    "sum = a + b\n",
    "sub = a - b\n",
    "mult = a * b\n",
    "div = a / b\n",
    "print(sum)\n",
    "print(sub)\n",
    "print(mult)\n",
    "print(div)"
   ]
  },
  {
   "cell_type": "code",
   "execution_count": 6,
   "metadata": {},
   "outputs": [
    {
     "name": "stdout",
     "output_type": "stream",
     "text": [
      "Sum a: 6\n",
      "Sum b: 60\n",
      "Mean a: 2.0\n",
      "Mean b: 20.0\n",
      "Min a: 1 Max a: 3\n",
      "Min b: 10 Max b: 30\n"
     ]
    }
   ],
   "source": [
    "# Sum of all elements\n",
    "print(\"Sum a:\", np.sum(a))\n",
    "print(\"Sum b:\", np.sum(b))\n",
    "\n",
    "# Mean value\n",
    "print(\"Mean a:\", np.mean(a))\n",
    "print(\"Mean b:\", np.mean(b))\n",
    "\n",
    "# Minimum and Maximum\n",
    "print(\"Min a:\", np.min(a), \"Max a:\", np.max(a))\n",
    "print(\"Min b:\", np.min(b), \"Max b:\", np.max(b))"
   ]
  },
  {
   "cell_type": "code",
   "execution_count": 7,
   "metadata": {},
   "outputs": [
    {
     "data": {
      "text/plain": [
       "array([ 5, 10, 15])"
      ]
     },
     "execution_count": 7,
     "metadata": {},
     "output_type": "execute_result"
    }
   ],
   "source": [
    "mult_scal = a * 5\n",
    "mult_scal"
   ]
  }
 ],
 "metadata": {
  "kernelspec": {
   "display_name": "Python 3",
   "language": "python",
   "name": "python3"
  },
  "language_info": {
   "codemirror_mode": {
    "name": "ipython",
    "version": 3
   },
   "file_extension": ".py",
   "mimetype": "text/x-python",
   "name": "python",
   "nbconvert_exporter": "python",
   "pygments_lexer": "ipython3",
   "version": "3.11.4"
  },
  "orig_nbformat": 4
 },
 "nbformat": 4,
 "nbformat_minor": 2
}
