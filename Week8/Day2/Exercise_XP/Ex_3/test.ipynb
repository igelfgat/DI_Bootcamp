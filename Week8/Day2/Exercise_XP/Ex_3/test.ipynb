{
 "cells": [
  {
   "cell_type": "code",
   "execution_count": 1,
   "metadata": {},
   "outputs": [],
   "source": [
    "from selenium import webdriver\n",
    "from selenium.webdriver.common.keys import Keys\n",
    "from selenium.webdriver.common.by import By\n",
    "from selenium.webdriver.support.ui import WebDriverWait\n",
    "from selenium.webdriver.support import expected_conditions as EC\n",
    "import pprint  # To tidy up\n",
    "\n",
    "options = webdriver.ChromeOptions()\n",
    "options.add_argument('--headless')  # Run Chrome in headless mode\n",
    "options.add_argument(\"--no-sandbox\")  # Bypass OS security model\n",
    "options.add_argument(\"--disable-dev-shm-usage\")  # Overcome limited resource problems\n",
    "driver = webdriver.Chrome(options=options)"
   ]
  },
  {
   "cell_type": "code",
   "execution_count": 3,
   "metadata": {},
   "outputs": [],
   "source": [
    "url = \"https://quotes.toscrape.com/\"\n",
    "driver.get(url)"
   ]
  },
  {
   "cell_type": "code",
   "execution_count": null,
   "metadata": {},
   "outputs": [],
   "source": [
    "# 🌟 Exercise 3 : Scrape Dynamic Content From Rotten Tomatoes\n",
    "\n",
    "# Task:\n",
    "\n",
    "# Use Selenium to navigate to the Rotten Tomatoes Certified Fresh Movies page.\n",
    "# Extract the HTML content after it’s fully loaded.\n",
    "# Use BeautifulSoup to parse and extract the movie titles, scores, and release dates.\n",
    "# Instructions\n",
    "\n",
    "# Set up Selenium WebDriver and navigate to the Rotten Tomatoes page.\n",
    "# Extract the HTML content using driver.page_source.\n",
    "# Parse the HTML with BeautifulSoup.\n",
    "# Find and extract the desired movie information.\n",
    "# Print the extracted data.\n"
   ]
  },
  {
   "cell_type": "code",
   "execution_count": 6,
   "metadata": {},
   "outputs": [],
   "source": [
    "from selenium import webdriver\n",
    "from bs4 import BeautifulSoup\n",
    "import pandas as pd\n",
    "# Set up the WebDriver\n",
    "driver = webdriver.Chrome()\n",
    "driver.get('https://www.rottentomatoes.com/browse/movies_at_home/critics:certified_fresh')\n",
    "# Extract HTML content and parse with BeautifulSoup\n",
    "html = driver.page_source\n",
    "soup = BeautifulSoup(html, 'html.parser')\n",
    "# Extract movie information\n",
    "movies = soup.find_all('a', attrs={'data-qa': 'discovery-media-list-item-caption'})\n",
    "movie_data = [{'Title': movie.find('span', attrs={'data-qa': 'discovery-media-list-item-title'}).text.strip(),\n",
    "               'Score': movie.find('rt-text',  attrs={'slot': 'criticsScore'}).text.strip(),\n",
    "               'Release Date': movie.find('span', attrs={'data-qa': 'discovery-media-list-item-start-date'}).text.strip().replace('Streaming ', '')}\n",
    "              for movie in movies]\n",
    "# Convert to DataFrame and save\n",
    "df = pd.DataFrame(movie_data)\n",
    "df.to_csv('rotten_tomatoes_movies.csv', index=False)\n",
    "# Close the WebDriver\n",
    "driver.quit()"
   ]
  }
 ],
 "metadata": {
  "kernelspec": {
   "display_name": "Python 3",
   "language": "python",
   "name": "python3"
  },
  "language_info": {
   "codemirror_mode": {
    "name": "ipython",
    "version": 3
   },
   "file_extension": ".py",
   "mimetype": "text/x-python",
   "name": "python",
   "nbconvert_exporter": "python",
   "pygments_lexer": "ipython3",
   "version": "3.11.4"
  },
  "orig_nbformat": 4
 },
 "nbformat": 4,
 "nbformat_minor": 2
}
