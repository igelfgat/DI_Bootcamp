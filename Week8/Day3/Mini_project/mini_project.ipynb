{
 "cells": [
  {
   "attachments": {},
   "cell_type": "markdown",
   "metadata": {},
   "source": [
    "Task\n",
    "\n",
    "Initialize Selenium WebDriver\n",
    "Load the Web Page\n",
    "Identify the elements that contain hosting plan details.\n",
    "Extract necessary data such as plan names, features, and pricing.\n",
    "Store and Save the Data\n",
    "Close Selenium WebDriver"
   ]
  },
  {
   "cell_type": "code",
   "execution_count": 29,
   "metadata": {},
   "outputs": [],
   "source": [
    "from selenium import webdriver\n",
    "from bs4 import BeautifulSoup\n",
    "import pandas as pd\n",
    "driver = webdriver.Chrome()\n",
    "driver.get('https://www.inmotionhosting.com')\n",
    "html = driver.page_source\n",
    "soup = BeautifulSoup(html, 'html.parser')\n",
    "\n",
    "container = soup.find('div', class_='imh-rostrum-container')\n",
    "plan_names =  container.find_all('h3', class_='imh-rostrum-card-title')\n",
    "plan_features = container.find_all('div', class_='imh-rostrum-sub-title')\n",
    "plan_prices = container.find_all('div', class_='imh-rostrum-starting-at-price-discounted')\n",
    "\n",
    "\n",
    "plan_data = [{'Plan name': plan_name.text.strip(), 'Feature': plan_feature.text.strip(), 'Price': plan_price.text.strip()}\n",
    "                  for plan_name, plan_feature, plan_price in zip(plan_names, plan_features, plan_prices)]\n",
    "# Convert to DataFrame and save\n",
    "df = pd.DataFrame(plan_data)\n",
    "df.to_csv('inmotion_hosting.csv', index=False)\n",
    "driver.quit()\n"
   ]
  }
 ],
 "metadata": {
  "kernelspec": {
   "display_name": "Python 3",
   "language": "python",
   "name": "python3"
  },
  "language_info": {
   "codemirror_mode": {
    "name": "ipython",
    "version": 3
   },
   "file_extension": ".py",
   "mimetype": "text/x-python",
   "name": "python",
   "nbconvert_exporter": "python",
   "pygments_lexer": "ipython3",
   "version": "3.11.4"
  },
  "orig_nbformat": 4
 },
 "nbformat": 4,
 "nbformat_minor": 2
}
