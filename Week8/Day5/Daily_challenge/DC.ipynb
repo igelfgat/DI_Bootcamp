{
 "cells": [
  {
   "attachments": {},
   "cell_type": "markdown",
   "metadata": {},
   "source": [
    "Task\n",
    "\n",
    "Using python only :\n",
    "\n",
    "Create an Excel workbook using openpyxl with a sheet named “Grades”.\n",
    "Populate the sheet with the following data structure:\n",
    "Column A: Student Names (e.g., Joe, Bill, Tim, Sally, Jane)\n",
    "Columns B, C, D, E: Subject Grades (math, science, english, gym)\n",
    "Add a row for each student’s grades.\n",
    "Add a formula in the last row of each subject column to calculate the average grade for that subject.\n",
    "Apply bold and colored formatting to the header row."
   ]
  },
  {
   "cell_type": "code",
   "execution_count": 2,
   "metadata": {},
   "outputs": [
    {
     "name": "stdout",
     "output_type": "stream",
     "text": [
      "Gradebook created successfully!\n"
     ]
    }
   ],
   "source": [
    "from openpyxl import Workbook\n",
    "from openpyxl.styles import Font, PatternFill\n",
    "\n",
    "# Create an Excel workbook and add a sheet named \"Grades\"\n",
    "wb = Workbook()\n",
    "ws = wb.active\n",
    "ws.title = \"Grades\"\n",
    "\n",
    "# Populate the sheet with the data structure\n",
    "header = [\"Student Names\", \"Math\", \"Science\", \"English\", \"Gym\"]\n",
    "header_fill = PatternFill(start_color=\"4F81BD\", end_color=\"4F81BD\", fill_type=\"solid\")\n",
    "\n",
    "for col_num, header_name in enumerate(header, start=1):\n",
    "    cell = ws.cell(row=1, column=col_num, value=header_name)\n",
    "    cell.font = Font(bold=True, color=\"FFFFFF\")\n",
    "    cell.fill = header_fill\n",
    "\n",
    "# Add the student data\n",
    "students_grades = [\n",
    "    [\"Joe\", 85, 90, 78, 88],\n",
    "    [\"Bill\", 92, 88, 84, 76],\n",
    "    [\"Tim\", 70, 75, 80, 85],\n",
    "    [\"Sally\", 95, 85, 92, 90],\n",
    "    [\"Jane\", 78, 82, 88, 83]\n",
    "]\n",
    "\n",
    "for row_num, student_data in enumerate(students_grades, start=2):\n",
    "    for col_num, data in enumerate(student_data, start=1):\n",
    "        ws.cell(row=row_num, column=col_num, value=data)\n",
    "\n",
    "# Add a formula in the last row of each subject column to calculate the average grade for that subject\n",
    "num_students = len(students_grades)\n",
    "average_row = num_students + 2  # Leave a blank row after the students' grades\n",
    "\n",
    "ws.cell(row=average_row, column=1, value=\"Average\").font = Font(bold=True)\n",
    "\n",
    "for col_num in range(2, 6):\n",
    "    col_letter = ws.cell(row=1, column=col_num).column_letter\n",
    "    ws.cell(row=average_row, column=col_num, value=f\"=AVERAGE({col_letter}2:{col_letter}{num_students+1})\").font = Font(bold=True)\n",
    "\n",
    "# Save the workbook\n",
    "wb.save(\"Gradebook.xlsx\")\n",
    "\n",
    "print(\"Gradebook created successfully!\")\n"
   ]
  }
 ],
 "metadata": {
  "kernelspec": {
   "display_name": "Python 3",
   "language": "python",
   "name": "python3"
  },
  "language_info": {
   "codemirror_mode": {
    "name": "ipython",
    "version": 3
   },
   "file_extension": ".py",
   "mimetype": "text/x-python",
   "name": "python",
   "nbconvert_exporter": "python",
   "pygments_lexer": "ipython3",
   "version": "3.11.4"
  },
  "orig_nbformat": 4
 },
 "nbformat": 4,
 "nbformat_minor": 2
}
