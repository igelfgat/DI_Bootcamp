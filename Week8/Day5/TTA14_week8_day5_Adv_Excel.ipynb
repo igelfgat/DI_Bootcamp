{
  "cells": [
    {
      "cell_type": "code",
      "execution_count": null,
      "metadata": {
        "colab": {
          "base_uri": "https://localhost:8080/"
        },
        "id": "qbI0RHUziexO",
        "outputId": "4ac2ecf6-13d1-4e83-e2d1-45e4b4b8a85b"
      },
      "outputs": [
        {
          "name": "stdout",
          "output_type": "stream",
          "text": [
            "Requirement already satisfied: openpyxl in /usr/local/lib/python3.10/dist-packages (3.1.5)\n",
            "Requirement already satisfied: pandas in /usr/local/lib/python3.10/dist-packages (2.1.4)\n",
            "Requirement already satisfied: xlrd in /usr/local/lib/python3.10/dist-packages (2.0.1)\n",
            "Requirement already satisfied: et-xmlfile in /usr/local/lib/python3.10/dist-packages (from openpyxl) (1.1.0)\n",
            "Requirement already satisfied: numpy<2,>=1.22.4 in /usr/local/lib/python3.10/dist-packages (from pandas) (1.26.4)\n",
            "Requirement already satisfied: python-dateutil>=2.8.2 in /usr/local/lib/python3.10/dist-packages (from pandas) (2.8.2)\n",
            "Requirement already satisfied: pytz>=2020.1 in /usr/local/lib/python3.10/dist-packages (from pandas) (2024.1)\n",
            "Requirement already satisfied: tzdata>=2022.1 in /usr/local/lib/python3.10/dist-packages (from pandas) (2024.1)\n",
            "Requirement already satisfied: six>=1.5 in /usr/local/lib/python3.10/dist-packages (from python-dateutil>=2.8.2->pandas) (1.16.0)\n"
          ]
        }
      ],
      "source": [
        "!pip install openpyxl pandas xlrd"
      ]
    },
    {
      "cell_type": "code",
      "execution_count": 5,
      "metadata": {
        "colab": {
          "base_uri": "https://localhost:8080/"
        },
        "id": "d58aQzdi3vYj",
        "outputId": "ff4724bf-d1df-481c-f0bf-7a8f6df1844c"
      },
      "outputs": [
        {
          "data": {
            "text/plain": [
              "<openpyxl.workbook.workbook.Workbook at 0x7f659c3a2320>"
            ]
          },
          "execution_count": 5,
          "metadata": {},
          "output_type": "execute_result"
        }
      ],
      "source": [
        "import openpyxl\n",
        "workbook = openpyxl.load_workbook('Retailer_Costco.xlsx')\n",
        "workbook"
      ]
    },
    {
      "cell_type": "code",
      "execution_count": 7,
      "metadata": {
        "colab": {
          "base_uri": "https://localhost:8080/"
        },
        "id": "XutqlgFr4kLX",
        "outputId": "d4f1a6b2-9ee3-42b4-f1e2-dae32467b99c"
      },
      "outputs": [
        {
          "name": "stdout",
          "output_type": "stream",
          "text": [
            "['Data']\n"
          ]
        }
      ],
      "source": [
        "sheet_names = workbook.sheetnames\n",
        "print(sheet_names)"
      ]
    },
    {
      "cell_type": "code",
      "execution_count": 9,
      "metadata": {
        "colab": {
          "base_uri": "https://localhost:8080/"
        },
        "id": "R2WyNQ7q4ofF",
        "outputId": "f7198d37-d38e-4d63-cf1d-5259b2094eaa"
      },
      "outputs": [
        {
          "name": "stdout",
          "output_type": "stream",
          "text": [
            "('Retailer', 'Contact', 'Retailer ID', 'Order Date', 'Payment Date', 'Region--State', 'Beverage Brand', 'Price per Unit', 'Units Sold')\n",
            "('Costco', 'Ana -Costco', 1128299, datetime.datetime(2022, 1, 20, 0, 0), datetime.datetime(2022, 2, 19, 0, 0), 'West--California', 'Coca-Cola', 0.39999999999999997, 7750)\n",
            "('Costco', 'Ana -Costco', 1128299, datetime.datetime(2022, 1, 20, 0, 0), datetime.datetime(2022, 3, 26, 0, 0), 'West--California', 'Diet Coke', 0.5, 7750)\n",
            "('Costco', 'Ana -Costco', 1128299, datetime.datetime(2022, 1, 20, 0, 0), datetime.datetime(2022, 3, 26, 0, 0), 'West--California', 'Sprite', 0.5, 7750)\n",
            "('Costco', 'Ana -Costco', 1128299, datetime.datetime(2022, 1, 20, 0, 0), datetime.datetime(2022, 2, 26, 0, 0), 'West--California', 'Fanta', 0.5, 6250)\n"
          ]
        }
      ],
      "source": [
        "sheet = workbook[sheet_names[0]]\n",
        "\n",
        "for row in sheet.iter_rows(max_row=5,values_only=True):\n",
        "    print(row)\n",
        "\n"
      ]
    },
    {
      "cell_type": "code",
      "execution_count": 10,
      "metadata": {
        "colab": {
          "base_uri": "https://localhost:8080/"
        },
        "id": "qPilD_dS9KdK",
        "outputId": "7be2393a-f525-44db-f74d-73a71a70eac3"
      },
      "outputs": [
        {
          "name": "stdout",
          "output_type": "stream",
          "text": [
            "('Retailer', 'Contact', 'Retailer ID', 'Order Date', 'Payment Date', 'Region--State', 'Beverage Brand', 'Price per Unit', 'Units Sold')\n",
            "[('Costco', 'Ana -Costco', 1128299, datetime.datetime(2022, 1, 20, 0, 0), datetime.datetime(2022, 2, 19, 0, 0), 'West--California', 'Coca-Cola', 0.39999999999999997, 7750), ('Costco', 'Ana -Costco', 1128299, datetime.datetime(2022, 1, 20, 0, 0), datetime.datetime(2022, 3, 26, 0, 0), 'West--California', 'Diet Coke', 0.5, 7750), ('Costco', 'Ana -Costco', 1128299, datetime.datetime(2022, 1, 20, 0, 0), datetime.datetime(2022, 3, 26, 0, 0), 'West--California', 'Sprite', 0.5, 7750), ('Costco', 'Ana -Costco', 1128299, datetime.datetime(2022, 1, 20, 0, 0), datetime.datetime(2022, 2, 26, 0, 0), 'West--California', 'Fanta', 0.5, 6250), ('Costco', 'Ana -Costco', 1128299, datetime.datetime(2022, 1, 20, 0, 0), datetime.datetime(2022, 2, 19, 0, 0), 'West--California', 'Powerade', 0.55, 5750), ('Costco', 'Ana -Costco', 1128299, datetime.datetime(2022, 1, 20, 0, 0), datetime.datetime(2022, 2, 19, 0, 0), 'West--California', 'Dasani Water', 0.5, 7750), ('Costco', 'Ana -Costco', 1128299, datetime.datetime(2022, 2, 20, 0, 0), datetime.datetime(2022, 3, 22, 0, 0), 'West--California', 'Coca-Cola', 0.39999999999999997, 8250), ('Costco', 'Ana -Costco', 1128299, datetime.datetime(2022, 2, 20, 0, 0), datetime.datetime(2022, 3, 22, 0, 0), 'West--California', 'Diet Coke', 0.5, 7250), ('Costco', 'Ana -Costco', 1128299, datetime.datetime(2022, 2, 20, 0, 0), datetime.datetime(2022, 3, 22, 0, 0), 'West--California', 'Sprite', 0.5, 7250), ('Costco', 'Ana -Costco', 1128299, datetime.datetime(2022, 2, 20, 0, 0), datetime.datetime(2022, 3, 22, 0, 0), 'West--California', 'Fanta', 0.5, 5750), ('Costco', 'Ana -Costco', 1128299, datetime.datetime(2022, 2, 20, 0, 0), datetime.datetime(2022, 3, 25, 0, 0), 'West--California', 'Powerade', 0.55, 5000), ('Costco', 'Ana -Costco', 1128299, datetime.datetime(2022, 2, 20, 0, 0), datetime.datetime(2022, 3, 22, 0, 0), 'West--California', 'Dasani Water', 0.5, 7000), ('Costco', 'Ana -Costco', 1128299, datetime.datetime(2022, 3, 19, 0, 0), datetime.datetime(2022, 4, 18, 0, 0), 'West--California', 'Coca-Cola', 0.5, 8500), ('Costco', 'Ana -Costco', 1128299, datetime.datetime(2022, 3, 19, 0, 0), datetime.datetime(2022, 4, 18, 0, 0), 'West--California', 'Diet Coke', 0.6, 7000), ('Costco', 'Ana -Costco', 1128299, datetime.datetime(2022, 3, 19, 0, 0), datetime.datetime(2022, 4, 18, 0, 0), 'West--California', 'Sprite', 0.6, 7000), ('Costco', 'Ana -Costco', 1128299, datetime.datetime(2022, 3, 19, 0, 0), datetime.datetime(2022, 4, 18, 0, 0), 'West--California', 'Fanta', 0.6, 6000), ('Costco', 'Ana -Costco', 1128299, datetime.datetime(2022, 3, 19, 0, 0), datetime.datetime(2022, 4, 18, 0, 0), 'West--California', 'Powerade', 0.65, 5000), ('Costco', 'Ana -Costco', 1128299, datetime.datetime(2022, 3, 19, 0, 0), datetime.datetime(2022, 4, 18, 0, 0), 'West--California', 'Dasani Water', 0.6, 7000), ('Costco', 'Ana -Costco', 1128299, datetime.datetime(2022, 4, 20, 0, 0), datetime.datetime(2022, 5, 20, 0, 0), 'West--California', 'Coca-Cola', 0.6, 8750), ('Costco', 'Ana -Costco', 1128299, datetime.datetime(2022, 4, 20, 0, 0), datetime.datetime(2022, 5, 20, 0, 0), 'West--California', 'Diet Coke', 0.65, 6750), ('Costco', 'Ana -Costco', 1128299, datetime.datetime(2022, 4, 20, 0, 0), datetime.datetime(2022, 5, 20, 0, 0), 'West--California', 'Sprite', 0.65, 7250), ('Costco', 'Ana -Costco', 1128299, datetime.datetime(2022, 4, 20, 0, 0), datetime.datetime(2022, 5, 20, 0, 0), 'West--California', 'Fanta', 0.6, 6250), ('Costco', 'Ana -Costco', 1128299, datetime.datetime(2022, 4, 20, 0, 0), datetime.datetime(2022, 5, 20, 0, 0), 'West--California', 'Powerade', 0.65, 5250), ('Costco', 'Ana -Costco', 1128299, datetime.datetime(2022, 4, 20, 0, 0), datetime.datetime(2022, 5, 20, 0, 0), 'West--California', 'Dasani Water', 0.8, 7000), ('Costco', 'Ana -Costco', 1128299, datetime.datetime(2022, 5, 21, 0, 0), datetime.datetime(2022, 6, 20, 0, 0), 'West--California', 'Coca-Cola', 0.6, 9000), ('Costco', 'Ana -Costco', 1128299, datetime.datetime(2022, 5, 21, 0, 0), datetime.datetime(2022, 6, 20, 0, 0), 'West--California', 'Diet Coke', 0.65, 7500), ('Costco', 'Ana -Costco', 1128299, datetime.datetime(2022, 5, 21, 0, 0), datetime.datetime(2022, 6, 20, 0, 0), 'West--California', 'Sprite', 0.65, 7500), ('Costco', 'Ana -Costco', 1128299, datetime.datetime(2022, 5, 21, 0, 0), datetime.datetime(2022, 6, 20, 0, 0), 'West--California', 'Fanta', 0.6, 6500), ('Costco', 'Ana -Costco', 1128299, datetime.datetime(2022, 5, 21, 0, 0), datetime.datetime(2022, 6, 20, 0, 0), 'West--California', 'Powerade', 0.65, 5500), ('Costco', 'Ana -Costco', 1128299, datetime.datetime(2022, 5, 21, 0, 0), datetime.datetime(2022, 6, 20, 0, 0), 'West--California', 'Dasani Water', 0.8, 7250), ('Costco', 'Ana -Costco', 1128299, datetime.datetime(2022, 6, 20, 0, 0), datetime.datetime(2022, 7, 20, 0, 0), 'West--California', 'Coca-Cola', 0.6, 9750), ('Costco', 'Ana -Costco', 1128299, datetime.datetime(2022, 6, 20, 0, 0), datetime.datetime(2022, 7, 20, 0, 0), 'West--California', 'Diet Coke', 0.65, 8250), ('Costco', 'Ana -Costco', 1128299, datetime.datetime(2022, 6, 20, 0, 0), datetime.datetime(2022, 7, 20, 0, 0), 'West--California', 'Sprite', 0.65, 8250), ('Costco', 'Ana -Costco', 1128299, datetime.datetime(2022, 6, 20, 0, 0), datetime.datetime(2022, 7, 20, 0, 0), 'West--California', 'Fanta', 0.6, 7000), ('Costco', 'Ana -Costco', 1128299, datetime.datetime(2022, 6, 20, 0, 0), datetime.datetime(2022, 7, 20, 0, 0), 'West--California', 'Powerade', 0.65, 5750), ('Costco', 'Ana -Costco', 1128299, datetime.datetime(2022, 6, 20, 0, 0), datetime.datetime(2022, 7, 20, 0, 0), 'West--California', 'Dasani Water', 0.8, 8750), ('Costco', 'Ana -Costco', 1128299, datetime.datetime(2022, 7, 19, 0, 0), datetime.datetime(2022, 8, 18, 0, 0), 'West--California', 'Coca-Cola', 0.6, 10250), ('Costco', 'Ana -Costco', 1128299, datetime.datetime(2022, 7, 19, 0, 0), datetime.datetime(2022, 8, 18, 0, 0), 'West--California', 'Diet Coke', 0.65, 8750), ('Costco', 'Ana -Costco', 1128299, datetime.datetime(2022, 7, 19, 0, 0), datetime.datetime(2022, 8, 18, 0, 0), 'West--California', 'Sprite', 0.65, 8250), ('Costco', 'Ana -Costco', 1128299, datetime.datetime(2022, 7, 19, 0, 0), datetime.datetime(2022, 8, 18, 0, 0), 'West--California', 'Fanta', 0.6, 7250), ('Costco', 'Ana -Costco', 1128299, datetime.datetime(2022, 7, 19, 0, 0), datetime.datetime(2022, 8, 18, 0, 0), 'West--California', 'Powerade', 0.65, 7750), ('Costco', 'Ana -Costco', 1128299, datetime.datetime(2022, 7, 19, 0, 0), datetime.datetime(2022, 8, 18, 0, 0), 'West--California', 'Dasani Water', 0.8, 7750), ('Costco', 'Ana -Costco', 1128299, datetime.datetime(2022, 8, 20, 0, 0), datetime.datetime(2022, 9, 19, 0, 0), 'West--California', 'Coca-Cola', 0.65, 9750), ('Costco', 'Ana -Costco', 1128299, datetime.datetime(2022, 8, 20, 0, 0), datetime.datetime(2022, 9, 19, 0, 0), 'West--California', 'Diet Coke', 0.7000000000000001, 9250), ('Costco', 'Ana -Costco', 1128299, datetime.datetime(2022, 8, 20, 0, 0), datetime.datetime(2022, 9, 19, 0, 0), 'West--California', 'Sprite', 0.65, 8000), ('Costco', 'Ana -Costco', 1128299, datetime.datetime(2022, 8, 20, 0, 0), datetime.datetime(2022, 9, 19, 0, 0), 'West--California', 'Fanta', 0.65, 7500), ('Costco', 'Ana -Costco', 1128299, datetime.datetime(2022, 8, 20, 0, 0), datetime.datetime(2022, 9, 19, 0, 0), 'West--California', 'Powerade', 0.75, 7500), ('Costco', 'Ana -Costco', 1128299, datetime.datetime(2022, 8, 20, 0, 0), datetime.datetime(2022, 9, 19, 0, 0), 'West--California', 'Dasani Water', 0.8, 7250), ('Costco', 'Ana -Costco', 1128299, datetime.datetime(2022, 9, 21, 0, 0), datetime.datetime(2022, 10, 21, 0, 0), 'West--California', 'Coca-Cola', 0.55, 9250), ('Costco', 'Ana -Costco', 1128299, datetime.datetime(2022, 9, 21, 0, 0), datetime.datetime(2022, 10, 21, 0, 0), 'West--California', 'Diet Coke', 0.6000000000000001, 9250), ('Costco', 'Ana -Costco', 1128299, datetime.datetime(2022, 9, 21, 0, 0), datetime.datetime(2022, 10, 21, 0, 0), 'West--California', 'Sprite', 0.55, 7750), ('Costco', 'Ana -Costco', 1128299, datetime.datetime(2022, 9, 21, 0, 0), datetime.datetime(2022, 10, 21, 0, 0), 'West--California', 'Fanta', 0.55, 7250), ('Costco', 'Ana -Costco', 1128299, datetime.datetime(2022, 9, 21, 0, 0), datetime.datetime(2022, 10, 21, 0, 0), 'West--California', 'Powerade', 0.65, 7250), ('Costco', 'Ana -Costco', 1128299, datetime.datetime(2022, 9, 21, 0, 0), datetime.datetime(2022, 10, 21, 0, 0), 'West--California', 'Dasani Water', 0.7000000000000001, 7750), ('Costco', 'Ana -Costco', 1128299, datetime.datetime(2022, 10, 20, 0, 0), datetime.datetime(2022, 11, 19, 0, 0), 'West--California', 'Coca-Cola', 0.55, 8750), ('Costco', 'Ana -Costco', 1128299, datetime.datetime(2022, 10, 20, 0, 0), datetime.datetime(2022, 11, 19, 0, 0), 'West--California', 'Diet Coke', 0.6000000000000001, 8750), ('Costco', 'Ana -Costco', 1128299, datetime.datetime(2022, 10, 20, 0, 0), datetime.datetime(2022, 11, 19, 0, 0), 'West--California', 'Sprite', 0.55, 7000), ('Costco', 'Ana -Costco', 1128299, datetime.datetime(2022, 10, 20, 0, 0), datetime.datetime(2022, 11, 19, 0, 0), 'West--California', 'Fanta', 0.55, 6750), ('Costco', 'Ana -Costco', 1128299, datetime.datetime(2022, 10, 20, 0, 0), datetime.datetime(2022, 11, 19, 0, 0), 'West--California', 'Powerade', 0.65, 6500), ('Costco', 'Ana -Costco', 1128299, datetime.datetime(2022, 10, 20, 0, 0), datetime.datetime(2022, 11, 19, 0, 0), 'West--California', 'Dasani Water', 0.7000000000000001, 7000), ('Costco', 'Ana -Costco', 1128299, datetime.datetime(2022, 11, 20, 0, 0), datetime.datetime(2022, 12, 20, 0, 0), 'West--California', 'Coca-Cola', 0.55, 8750), ('Costco', 'Ana -Costco', 1128299, datetime.datetime(2022, 11, 20, 0, 0), datetime.datetime(2022, 12, 20, 0, 0), 'West--California', 'Diet Coke', 0.6000000000000001, 8750), ('Costco', 'Ana -Costco', 1128299, datetime.datetime(2022, 11, 20, 0, 0), datetime.datetime(2022, 12, 20, 0, 0), 'West--California', 'Sprite', 0.55, 7250), ('Costco', 'Ana -Costco', 1128299, datetime.datetime(2022, 11, 20, 0, 0), datetime.datetime(2022, 12, 20, 0, 0), 'West--California', 'Fanta', 0.55, 7000), ('Costco', 'Ana -Costco', 1128299, datetime.datetime(2022, 11, 20, 0, 0), datetime.datetime(2022, 12, 20, 0, 0), 'West--California', 'Powerade', 0.65, 6500), ('Costco', 'Ana -Costco', 1128299, datetime.datetime(2022, 11, 20, 0, 0), datetime.datetime(2022, 12, 20, 0, 0), 'West--California', 'Dasani Water', 0.7000000000000001, 7750), ('Costco', 'Ana -Costco', 1128299, datetime.datetime(2022, 12, 19, 0, 0), datetime.datetime(2023, 1, 18, 0, 0), 'West--California', 'Coca-Cola', 0.55, 9750), ('Costco', 'Ana -Costco', 1128299, datetime.datetime(2022, 12, 19, 0, 0), datetime.datetime(2023, 1, 18, 0, 0), 'West--California', 'Diet Coke', 0.6000000000000001, 9750), ('Costco', 'Ana -Costco', 1128299, datetime.datetime(2022, 12, 19, 0, 0), datetime.datetime(2023, 1, 18, 0, 0), 'West--California', 'Sprite', 0.55, 7750), ('Costco', 'Ana -Costco', 1128299, datetime.datetime(2022, 12, 19, 0, 0), datetime.datetime(2023, 1, 18, 0, 0), 'West--California', 'Fanta', 0.55, 7750), ('Costco', 'Ana -Costco', 1128299, datetime.datetime(2022, 12, 19, 0, 0), datetime.datetime(2023, 1, 18, 0, 0), 'West--California', 'Powerade', 0.65, 7000), ('Costco', 'Ana -Costco', 1128299, datetime.datetime(2022, 12, 19, 0, 0), datetime.datetime(2023, 1, 18, 0, 0), 'West--California', 'Dasani Water', 0.7000000000000001, 8000)]\n"
          ]
        }
      ],
      "source": [
        "data = list(sheet.iter_rows(values_only=True))\n",
        "\n",
        "header = data[0]\n",
        "data = data[1:]\n",
        "\n",
        "print(header)\n",
        "print(data)"
      ]
    },
    {
      "cell_type": "code",
      "execution_count": 11,
      "metadata": {
        "colab": {
          "base_uri": "https://localhost:8080/"
        },
        "id": "WUhR__-g9gyM",
        "outputId": "b08abdd1-305d-4558-c950-aba845ab0b5f"
      },
      "outputs": [
        {
          "name": "stdout",
          "output_type": "stream",
          "text": [
            "  Retailer      Contact  Retailer ID Order Date Payment Date  \\\n",
            "0   Costco  Ana -Costco      1128299 2022-01-20   2022-02-19   \n",
            "1   Costco  Ana -Costco      1128299 2022-01-20   2022-03-26   \n",
            "2   Costco  Ana -Costco      1128299 2022-01-20   2022-03-26   \n",
            "3   Costco  Ana -Costco      1128299 2022-01-20   2022-02-26   \n",
            "4   Costco  Ana -Costco      1128299 2022-01-20   2022-02-19   \n",
            "\n",
            "      Region--State Beverage Brand  Price per Unit  Units Sold  \n",
            "0  West--California      Coca-Cola            0.40        7750  \n",
            "1  West--California      Diet Coke            0.50        7750  \n",
            "2  West--California         Sprite            0.50        7750  \n",
            "3  West--California          Fanta            0.50        6250  \n",
            "4  West--California       Powerade            0.55        5750  \n"
          ]
        }
      ],
      "source": [
        "df = pd.DataFrame(data, columns=header)\n",
        "print(df.head())"
      ]
    },
    {
      "cell_type": "code",
      "execution_count": 12,
      "metadata": {
        "colab": {
          "base_uri": "https://localhost:8080/"
        },
        "id": "FRvYZ-cT9ot8",
        "outputId": "2c60bc21-61e2-4acb-8a53-b61502383421"
      },
      "outputs": [
        {
          "name": "stdout",
          "output_type": "stream",
          "text": [
            "  Retailer      Contact  Retailer ID Order Date Payment Date  \\\n",
            "0   Costco  Ana -Costco      1128299 2022-01-20   2022-02-19   \n",
            "1   Costco  Ana -Costco      1128299 2022-01-20   2022-03-26   \n",
            "2   Costco  Ana -Costco      1128299 2022-01-20   2022-03-26   \n",
            "3   Costco  Ana -Costco      1128299 2022-01-20   2022-02-26   \n",
            "4   Costco  Ana -Costco      1128299 2022-01-20   2022-02-19   \n",
            "\n",
            "      Region--State Beverage Brand  Price per Unit  Units Sold  \n",
            "0  West--California      Coca-Cola            0.40        7750  \n",
            "1  West--California      Diet Coke            0.50        7750  \n",
            "2  West--California         Sprite            0.50        7750  \n",
            "3  West--California          Fanta            0.50        6250  \n",
            "4  West--California       Powerade            0.55        5750  \n"
          ]
        }
      ],
      "source": [
        "df = pd.read_excel('Retailer_Costco.xlsx')\n",
        "print(df.head())"
      ]
    },
    {
      "cell_type": "code",
      "execution_count": 13,
      "metadata": {
        "id": "vW9FbPdU96Jh"
      },
      "outputs": [],
      "source": [
        "import pandas as pd\n",
        "\n",
        "# Creating a DataFrame\n",
        "data = {'Name': ['John', 'Anna', 'Peter', 'Linda'],\n",
        "        'Age': [28, 24, 35, 32]}\n",
        "df = pd.DataFrame(data)\n",
        "\n",
        "# Writing the DataFrame to an Excel file\n",
        "df.to_excel('output_file.xlsx', index=False)"
      ]
    },
    {
      "cell_type": "code",
      "execution_count": 6,
      "metadata": {
        "colab": {
          "base_uri": "https://localhost:8080/"
        },
        "id": "nDn7TAuc4Q6-",
        "outputId": "d40c2bc9-ffda-4936-9278-15b55c5bbd23"
      },
      "outputs": [
        {
          "name": "stdout",
          "output_type": "stream",
          "text": [
            "  Retailer      Contact  Retailer ID Order Date Payment Date  \\\n",
            "0   Costco  Ana -Costco      1128299 2022-01-20   2022-02-19   \n",
            "1   Costco  Ana -Costco      1128299 2022-01-20   2022-03-26   \n",
            "2   Costco  Ana -Costco      1128299 2022-01-20   2022-03-26   \n",
            "3   Costco  Ana -Costco      1128299 2022-01-20   2022-02-26   \n",
            "4   Costco  Ana -Costco      1128299 2022-01-20   2022-02-19   \n",
            "\n",
            "      Region--State Beverage Brand  Price per Unit  Units Sold  \n",
            "0  West--California      Coca-Cola            0.40        7750  \n",
            "1  West--California      Diet Coke            0.50        7750  \n",
            "2  West--California         Sprite            0.50        7750  \n",
            "3  West--California          Fanta            0.50        6250  \n",
            "4  West--California       Powerade            0.55        5750  \n"
          ]
        }
      ],
      "source": [
        "import pandas as pd\n",
        "df = pd.read_excel('Retailer_Costco.xlsx')\n",
        "print(df.head())"
      ]
    },
    {
      "cell_type": "code",
      "execution_count": 20,
      "metadata": {
        "id": "K7N9mtCb-tKk"
      },
      "outputs": [],
      "source": [
        "from openpyxl import Workbook\n",
        "from openpyxl.styles import Font\n",
        "\n",
        "# Creating a new Excel workbook and sheet\n",
        "wb = Workbook()\n",
        "ws = wb.active\n",
        "\n",
        "# Automate data entry\n",
        "data = [\n",
        "    ['Name', 'Age'],\n",
        "    ['John', 28],\n",
        "    ['Anna', 24],\n",
        "    ['Peter', 35],\n",
        "    ['Linda', 32]\n",
        "]\n",
        "\n",
        "for row in data:\n",
        "    ws.append(row)\n",
        "\n",
        "# Automate formatting\n",
        "for cell in ws[1]:\n",
        "    cell.font = Font(bold=True)\n",
        "\n",
        "# Saving the workbook\n",
        "wb.save('automated_task.xlsx')"
      ]
    },
    {
      "attachments": {},
      "cell_type": "markdown",
      "metadata": {
        "id": "6-4wxVisifpP"
      },
      "source": []
    },
    {
      "cell_type": "code",
      "execution_count": null,
      "metadata": {
        "id": "ebsZHeASiauD"
      },
      "outputs": [],
      "source": [
        "from openpyxl import Workbook\n",
        "from openpyxl.styles import Font\n",
        "\n",
        "# Creating a new Excel workbook and sheet\n",
        "wb = Workbook()\n",
        "ws = wb.active\n",
        "\n",
        "# Automate data entry\n",
        "data = [\n",
        "    ['Name', 'Age'],\n",
        "    ['John', 28],\n",
        "    ['Anna', 24],\n",
        "    ['Peter', 35],\n",
        "    ['Linda', 32]\n",
        "]\n",
        "\n",
        "for row in data:\n",
        "    ws.append(row)\n",
        "\n",
        "# Automate formatting\n",
        "for cell in ws[\"1:1\"]:\n",
        "    cell.font = Font(bold=True)\n",
        "\n",
        "# Saving the workbook\n",
        "wb.save('automated_task.xlsx')"
      ]
    },
    {
      "cell_type": "code",
      "execution_count": 24,
      "metadata": {
        "id": "OpMmlonLFlwN"
      },
      "outputs": [],
      "source": [
        "from openpyxl import Workbook\n",
        "from openpyxl.styles import Font, PatternFill\n",
        "\n",
        "# Create a new workbook and select the active worksheet\n",
        "wb = Workbook()\n",
        "ws = wb.active\n",
        "\n",
        "\n",
        "data = [\n",
        "    ['Product', 'Price', 'Units Sold'],\n",
        "    ['Apple', 1.2, 10],\n",
        "    ['Banana', 0.8, 15],\n",
        "    ['Cherry', 2.5, 4]\n",
        "]\n",
        "\n",
        "for row in data:\n",
        "  ws.append(row)\n",
        "\n",
        "for row in ws.iter_rows(min_row=2, max_row = ws.max_row, min_col=1, max_col=3):\n",
        "  total_sales = row[1].value * row[2].value\n",
        "  ws.cell(row = row[0].row, column=4, value=total_sales)\n",
        "\n",
        "ws.cell(row=1, column=4, value=\"Total Sales\")\n",
        "\n",
        "for cell in ws[1]:\n",
        "  cell.font=Font(bold=True)\n",
        "\n",
        "for row in ws.iter_rows(min_row=2, max_row=ws.max_row, min_col=1, max_col=4):\n",
        "  if row[3].value>10:\n",
        "    for cell in row:\n",
        "      cell.font=Font(bold=True)\n",
        "      cell.fill=PatternFill(start_color=\"FFFF00\", end_color=\"FFFF00\", fill_type=\"solid\")\n",
        "\n",
        "\n",
        "wb.save('sales.xlsx')\n"
      ]
    },
    {
      "cell_type": "code",
      "execution_count": 25,
      "metadata": {
        "id": "rS1RtwjxH9Z1"
      },
      "outputs": [],
      "source": [
        "import pandas as pd\n",
        "from openpyxl import load_workbook\n",
        "from openpyxl.styles import Font, PatternFill\n",
        "\n",
        "# Define the initial data\n",
        "data = {\n",
        "    'Product': ['Apple', 'Banana', 'Cherry'],\n",
        "    'Price': [1.2, 0.8, 2.5],\n",
        "    'Units Sold': [10, 15, 4]\n",
        "}\n",
        "\n",
        "# Create a DataFrame and calculate Total Sales\n",
        "df = pd.DataFrame(data)\n",
        "df['Total Sales'] = df['Price'] * df['Units Sold']\n",
        "\n",
        "# Save the DataFrame to an Excel file\n",
        "df.to_excel('formatted_products.xlsx', index=False)\n",
        "\n",
        "# Load the workbook with openpyxl\n",
        "wb = load_workbook('formatted_products.xlsx')\n",
        "ws = wb.active\n",
        "\n",
        "# Apply bold formatting to the header row (the first row)\n",
        "for cell in ws[1]:\n",
        "    cell.font = Font(bold=True)\n",
        "\n",
        "# Define a fill for highlighting\n",
        "highlight_fill = PatternFill(start_color=\"FFFF00\", end_color=\"FFFF00\", fill_type=\"solid\")\n",
        "\n",
        "# Bolden and highlight rows where total sales are above 10\n",
        "for row in ws.iter_rows(min_row=2, max_row=ws.max_row, min_col=1, max_col=ws.max_column):\n",
        "    if row[3].value > 10:  # Check the 'Total Sales' column\n",
        "        for cell in row:\n",
        "            cell.font = Font(bold=True)\n",
        "            cell.fill = highlight_fill\n",
        "\n",
        "# Save the workbook to a file named formatted_products.xlsx\n",
        "wb.save('formatted_products.xlsx')\n"
      ]
    },
    {
      "cell_type": "code",
      "execution_count": 29,
      "metadata": {
        "id": "X_n2GsL9N5Af"
      },
      "outputs": [],
      "source": [
        "from openpyxl import Workbook\n",
        "\n",
        "# Create a new workbook\n",
        "wb = Workbook()\n",
        "\n",
        "# Get the active worksheet and rename it\n",
        "ws1 = wb.active\n",
        "ws1.title = \"DataSheet\"\n",
        "\n",
        "# Add a new worksheet with a specific title\n",
        "ws2 = wb.create_sheet(title=\"SummarySheet\")\n",
        "\n",
        "# Insert headers and data into \"DataSheet\"\n",
        "ws1['A1'] = 'Name'\n",
        "ws1['B1'] = 'Age'\n",
        "ws1['A2'] = 'Alice'\n",
        "ws1['B2'] = 30\n",
        "ws1['A3'] = 'Bob'\n",
        "ws1['B3'] = 25\n",
        "ws1['D1'] = 25\n",
        "from openpyxl.styles import PatternFill, Alignment\n",
        "\n",
        "# Merge cells B1 to D1\n",
        "ws1.merge_cells('B1:D1')\n",
        "\n",
        "\n",
        "# Center-align the text in the merged cell\n",
        "ws1['B1'].alignment = Alignment(horizontal='left', vertical='center')\n",
        "\n",
        "# Create a blue fill pattern\n",
        "fill = PatternFill(start_color=\"FF224677\", end_color=\"FF224677\", fill_type=\"solid\")\n",
        "ws1['B1'].fill = fill\n",
        "\n",
        "# Save the workbook\n",
        "wb.save('merged_header.xlsx')"
      ]
    }
  ],
  "metadata": {
    "colab": {
      "provenance": []
    },
    "kernelspec": {
      "display_name": "Python 3",
      "name": "python3"
    },
    "language_info": {
      "name": "python"
    }
  },
  "nbformat": 4,
  "nbformat_minor": 0
}
